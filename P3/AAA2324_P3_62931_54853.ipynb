{
 "cells": [
  {
   "cell_type": "markdown",
   "metadata": {},
   "source": [
    "# Advanced Machine Learning 3rd Project\n",
    "### Authors: Guilherme Cepeda - 62931, Pedro Serrano - 54853\n"
   ]
  },
  {
   "cell_type": "markdown",
   "metadata": {},
   "source": [
    "In this third assignment, we were asked to apply reinforcement learning to the Mountain Cart problem, from Gymnasium. We will split this in two parts, one where we implement Q-Learning, and one where we implement Deep Q-Learning, as requested in the statement."
   ]
  },
  {
   "cell_type": "code",
   "execution_count": 284,
   "metadata": {},
   "outputs": [],
   "source": [
    "#imports\n",
    "import numpy as np\n",
    "import pandas as pd\n",
    "import matplotlib.pyplot as plt\n",
    "import warnings as w\n",
    "from sklearn.metrics import mean_squared_error, mean_absolute_error\n",
    "from math import sqrt\n",
    "from matplotlib import pyplot\n",
    "from statsmodels.tsa.stattools import adfuller\n",
    "from statsmodels.graphics.tsaplots import plot_acf, plot_pacf\n",
    "from statsmodels.tsa.arima.model import ARIMA\n",
    "from scipy.stats import shapiro\n",
    "\n",
    "import gymnasium as gym\n",
    "import pickle"
   ]
  },
  {
   "cell_type": "markdown",
   "metadata": {},
   "source": [
    "### Load Data "
   ]
  },
  {
   "cell_type": "markdown",
   "metadata": {},
   "source": [
    "For the **Mountain Car reinforcemet learning problem** the challenge lies in the continuous control problem of getting the car to move uphill by applying appropriate forces. There's no randomness in the transitions between states in the same way as it might be in a discrete grid world like FrozenLake. "
   ]
  },
  {
   "cell_type": "code",
   "execution_count": 290,
   "metadata": {},
   "outputs": [],
   "source": [
    "env = gym.make('MountainCar-v0', render_mode=\"rgb_array\") # rendered to an rbg array, returned as a NumPy array containing pixel values\n",
    "#env = gym.make('MountainCar-v0', render_mode=\"human\") #  will be rendered in a window or on the screen using the standard rendering mechanism (GUI) of the system"
   ]
  },
  {
   "cell_type": "code",
   "execution_count": 271,
   "metadata": {},
   "outputs": [
    {
     "data": {
      "image/png": "[encoded data removed]",
      "text/plain": [
       "<Figure size 640x480 with 1 Axes>"
      ]
     },
     "metadata": {},
     "output_type": "display_data"
    }
   ],
   "source": [
    "env.reset()\n",
    "plt.imshow(env.render())\n",
    "plt.axis('off')\n",
    "plt.show()"
   ]
  },
  {
   "cell_type": "markdown",
   "metadata": {},
   "source": [
    "### Exploratory Data Analysis (EDA)"
   ]
  },
  {
   "cell_type": "markdown",
   "metadata": {},
   "source": [
    "First we started by understanding the possible states and actions of the environment.\n",
    "\n",
    "\n",
    "Acho que esta parte podia ser so apagada tbh, never eu sei o que e que vais dizer mas aqui e para demonstrar que fomos verificar os states e actions e apresentamos so para termos o caminho completo."
   ]
  },
  {
   "cell_type": "markdown",
   "metadata": {},
   "source": [
    "#### States\n"
   ]
  },
  {
   "cell_type": "code",
   "execution_count": 10,
   "metadata": {},
   "outputs": [
    {
     "data": {
      "text/plain": [
       "Box([-1.2  -0.07], [0.6  0.07], (2,), float32)"
      ]
     },
     "execution_count": 10,
     "metadata": {},
     "output_type": "execute_result"
    }
   ],
   "source": [
    "env.observation_space #Position of the car along the x-axis, Min: -1.2 Max: 0.6\n",
    "                      #Velocity of the car, Min:-0.07 Max: 0.07"
   ]
  },
  {
   "cell_type": "code",
   "execution_count": 76,
   "metadata": {},
   "outputs": [
    {
     "data": {
      "text/plain": [
       "0.6"
      ]
     },
     "execution_count": 76,
     "metadata": {},
     "output_type": "execute_result"
    }
   ],
   "source": [
    "env.observation_space.high[0]"
   ]
  },
  {
   "cell_type": "markdown",
   "metadata": {},
   "source": [
    "#### Actions\n",
    "\n",
    "3 actions:\n",
    "* Drive left\n",
    "* Stay neutral\n",
    "* Drive right"
   ]
  },
  {
   "cell_type": "code",
   "execution_count": 11,
   "metadata": {},
   "outputs": [
    {
     "name": "stdout",
     "output_type": "stream",
     "text": [
      "Discrete(3)\n",
      "\n",
      " 3\n"
     ]
    }
   ],
   "source": [
    "print(env.action_space) \n",
    "print(\"\\n\",env.action_space.n)"
   ]
  },
  {
   "cell_type": "code",
   "execution_count": 75,
   "metadata": {},
   "outputs": [
    {
     "data": {
      "text/plain": [
       "0"
      ]
     },
     "execution_count": 75,
     "metadata": {},
     "output_type": "execute_result"
    }
   ],
   "source": [
    "env.action_space.sample() # generates a random action sample between 0(left), 1 (neutral) and 2(right)\n"
   ]
  },
  {
   "cell_type": "code",
   "execution_count": 60,
   "metadata": {},
   "outputs": [
    {
     "data": {
      "text/plain": [
       "(array([-0.5742453 ,  0.00311769], dtype=float32), -1.0, False, False, {})"
      ]
     },
     "execution_count": 60,
     "metadata": {},
     "output_type": "execute_result"
    }
   ],
   "source": [
    "env.step(env.action_space.sample())# executes an action"
   ]
  },
  {
   "cell_type": "code",
   "execution_count": 72,
   "metadata": {},
   "outputs": [
    {
     "name": "stdout",
     "output_type": "stream",
     "text": [
      "<MountainCarEnv<MountainCar-v0>>\n"
     ]
    }
   ],
   "source": [
    "print(env.unwrapped)"
   ]
  },
  {
   "cell_type": "markdown",
   "metadata": {},
   "source": [
    "### Q - Learning"
   ]
  },
  {
   "cell_type": "markdown",
   "metadata": {},
   "source": [
    "The Q-Learning algorithm is an model-free, off-policy method of doing Reinforcement Learning. This means we will not be estimating the transition matrix and the rewards, and will be going straight after an optimal policy.\n",
    "\n",
    "How do we do this?\n",
    "We create a Q-table, which is a lookup table os (os ANTERIOR VERIFICAR QUAL ERA O MEANING) states by actions, where, in each entry [state[i], action[i]] we have stored the optimal policy for that specific request. We estimate each Q value as the sum of the immediate reward, plus the maximum Q value of the possible future actions. We usualy add a weight - the discount factor - to this second part to balance out how much we want to reward the current reward. We expect the optimal discount factor in this problem to be fairly high - its like this is most cases, we believe."
   ]
  },
  {
   "cell_type": "code",
   "execution_count": 294,
   "metadata": {},
   "outputs": [],
   "source": [
    "TRAINING = True\n",
    "EPISODES = 5000"
   ]
  },
  {
   "cell_type": "markdown",
   "metadata": {},
   "source": [
    "As presented in the statement, the space is continuous, so we will need to turn it into a discrete space. \n",
    "\n",
    "We use the numpy linspace function to separate the entire range of the position and velocity scalers in equal parts. Here we initilly picked 5 (yes, it was very small), and tested bigger and bigger numbers until reaching the optimum value.\n",
    "\n"
   ]
  },
  {
   "cell_type": "code",
   "execution_count": 12,
   "metadata": {},
   "outputs": [],
   "source": [
    "# Divide position and velocity into segments\n",
    "position_space = np.linspace(env.observation_space.low[0], env.observation_space.high[0], 20)    # position between -1.2 and 0.6\n",
    "velocity_space = np.linspace(env.observation_space.low[1], env.observation_space.high[1], 20)    # velocity between -0.07 and 0.07"
   ]
  },
  {
   "cell_type": "markdown",
   "metadata": {},
   "source": [
    "Here is where we initialize some of the models parameters\n",
    "\n",
    "The Q-table starts off by all zeros - we also tested by starting with random numbers, but it didnt improve (later we realized this was useless, since we were starting our epsilon at 1)\n",
    "\n",
    "The treshold is an alternitive to having a fixed number of episodes - instead we pick a very low treshold, and if we dont improve more than the threshold, we stop running.\n",
    "\n",
    "We have talked about the discount factor before, but here we also initizalize the learning rate - still dont know what this is specifically.\n",
    "\n",
    "We start our epsilon at 1, and keep decreasing with every episode. The epsilon gives our how much of our decision is going to be random, meaning we start off with a completely random decision, and make them less random with every episode by using our Q-table\n",
    "\n",
    "The rewards per episode is just an array, initialized at all zeros, where we will be updating our rewards."
   ]
  },
  {
   "cell_type": "code",
   "execution_count": 13,
   "metadata": {},
   "outputs": [],
   "source": [
    "q_table = np.zeros((len(position_space), len(velocity_space), env.action_space.n)) # initialize the q table with dimension 20x20x3\n",
    "\n",
    "#set the threshold number for checking the convergence of the value function\n",
    "threshold = 1e-20\n",
    "\n",
    "alpha = 0.9 # alpha = learning rate\n",
    "gamma = 0.9 # gamma = discount factor\n",
    "\n",
    "epsilon = 1 # 100% random actions\n",
    "epsilon_decay_rate = 2/EPISODES # epsilon decay rate\n",
    "\n",
    "random_n_g = np.random.default_rng()   # random number generator\n",
    "\n",
    "rewards_per_episode = np.zeros(EPISODES) # rewards per episode"
   ]
  },
  {
   "cell_type": "code",
   "execution_count": 292,
   "metadata": {},
   "outputs": [],
   "source": [
    "def q_learning_test():\n",
    "\n",
    "    # Divide position and velocity into segments\n",
    "    position_space = np.linspace(env.observation_space.low[0], env.observation_space.high[0], 20)    # position between -1.2 and 0.6\n",
    "    velocity_space = np.linspace(env.observation_space.low[1], env.observation_space.high[1], 20)    # velocity between -0.07 and 0.07\n",
    "\n",
    "    if(TRAINING):\n",
    "        #if we are training, we begin with an empty Q-table. Alternitivly, we can initialize random numbers\n",
    "        q_table = np.zeros((len(position_space), len(velocity_space), env.action_space.n)) # initialize the q table with dimension 20x20x3\n",
    "    else:\n",
    "        #Otherwise, we just load the last updated Q-table from the traiinng phase\n",
    "        f = open('mountain_car.pkl', 'rb')\n",
    "        q_table = pickle.load(f)\n",
    "        f.close()\n",
    "\n",
    "    #set the threshold number for checking the convergence of the value function\n",
    "    threshold = 1e-10 # 1e-20 no effect on the episodes\n",
    "                     # 1e-5 the graph becomes mostly straight and destroys the test no longer works so threshold > 1e-5\n",
    "\n",
    "    alpha = 0.9 # alpha = learning rate\n",
    "    gamma = 0.9 # gamma = discount factor\n",
    "\n",
    "    epsilon = 1 # 100% random actions\n",
    "    epsilon_decay_rate = 2/EPISODES # epsilon decay rate\n",
    "\n",
    "    random_n_g = np.random.default_rng()   # random number generator\n",
    "\n",
    "    rewards_per_episode = np.zeros(EPISODES) # rewards per episode\n",
    "\n",
    "    for i in range(EPISODES):\n",
    "\n",
    "        state = env.reset()[0]      # Starting position, starting velocity always 0\n",
    "        state_p = np.digitize(state[0], position_space)\n",
    "        state_v = np.digitize(state[1], velocity_space)\n",
    "\n",
    "        terminated = False # when terminated is true it means we reached our goal\n",
    "\n",
    "        rewards = 0 # each reward is -1\n",
    "\n",
    "        previous_q_table = np.copy(q_table)  # Copy of the Q-table from the previous episode\n",
    "\n",
    "        while(not terminated and rewards>-1000):\n",
    "\n",
    "            if TRAINING and random_n_g.random() < epsilon:\n",
    "                # Choose random action (0=drive left, 1=stay neutral, 2=drive right)\n",
    "                action = env.action_space.sample()\n",
    "            else:\n",
    "                action = np.argmax(q_table[state_p, state_v, :]) # finds the index of the action that has the highest Q-value for the specified state in the Q-values array\n",
    "\n",
    "            new_state,reward,terminated,_,_ = env.step(action)\n",
    "            \n",
    "            new_state_p = np.digitize(new_state[0], position_space)\n",
    "            new_state_v = np.digitize(new_state[1], velocity_space)\n",
    "\n",
    "            if TRAINING:\n",
    "                q_table[state_p, state_v, action] = q_table[state_p, state_v, action] + alpha * (\n",
    "                    reward + gamma *np.max(q_table[new_state_p, new_state_v,:]) - q_table[state_p, state_v, action]\n",
    "                )\n",
    "\n",
    "            state = new_state\n",
    "            state_p = new_state_p\n",
    "            state_v = new_state_v\n",
    "\n",
    "            rewards+=reward\n",
    "\n",
    "        epsilon = max(epsilon - epsilon_decay_rate, 0)\n",
    "\n",
    "        rewards_per_episode[i] = rewards\n",
    "\n",
    "        # Check for convergence based on the change in Q-values\n",
    "        if TRAINING and i > 0:\n",
    "            q_change = np.mean(np.abs(q_table - previous_q_table))\n",
    "            if q_change < threshold:\n",
    "                print(f\"Convergence reached. Stopping at episode {i}.\")\n",
    "                break\n",
    "            previous_q_table = np.copy(q_table)\n",
    "\n",
    "    env.close()\n",
    "\n",
    "    # Save Q table to file\n",
    "    if TRAINING:\n",
    "        f = open('mountain_car.pkl','wb')\n",
    "        pickle.dump(q_table, f)\n",
    "        f.close()\n",
    "\n",
    "\n",
    "    #Plot the results\n",
    "    mean_rewards = np.zeros(EPISODES)\n",
    "    for t in range(EPISODES):\n",
    "        mean_rewards[t] = np.mean(rewards_per_episode[max(0, t-100):(t+1)]) #  technique to smooth out fluctuations in the learning curve to provide a more stable measure of the agent's performance over time.\n",
    "    plt.plot(mean_rewards)\n",
    "    plt.savefig(f'mountain_car.png')\n"
   ]
  },
  {
   "cell_type": "code",
   "execution_count": null,
   "metadata": {},
   "outputs": [],
   "source": [
    "plt.imshow(env.render())\n",
    "plt.axis('off')\n",
    "plt.show()"
   ]
  },
  {
   "cell_type": "markdown",
   "metadata": {},
   "source": [
    "Below, we show a plot, displaying how the rewards improve with the episodes.\n",
    "\n",
    "We can see its learning, and then stops at a little over -200. Why is the number negative? We dont assign a reward to finishing, and we decrease our reward for every step - this is to make the algorithm choose faster paths, meaning our car took a little less than 200 steps to get to the top."
   ]
  },
  {
   "cell_type": "code",
   "execution_count": 295,
   "metadata": {},
   "outputs": [
    {
     "data": {
      "image/png": "[encoded data removed]",
      "text/plain": [
       "<Figure size 640x480 with 1 Axes>"
      ]
     },
     "metadata": {},
     "output_type": "display_data"
    }
   ],
   "source": [
    "#training\n",
    "q_learning_test()"
   ]
  },
  {
   "cell_type": "markdown",
   "metadata": {},
   "source": [
    "Before, we were just training the model. Now, lets test how good our Q-table really is. \n",
    "\n",
    "Here, we use the gym package to render the GUI, and do the same plot we did before, but this time, since the values are close together, we can cleary see we get a maximum of -145, meaning we can get our car to the top with 145 steps."
   ]
  },
  {
   "cell_type": "code",
   "execution_count": 296,
   "metadata": {},
   "outputs": [
    {
     "data": {
      "image/png": "[encoded data removed]",
      "text/plain": [
       "<Figure size 640x480 with 1 Axes>"
      ]
     },
     "metadata": {},
     "output_type": "display_data"
    }
   ],
   "source": [
    "TRAINING = False\n",
    "EPISODES = 10\n",
    "env = gym.make('MountainCar-v0', render_mode=\"human\") \n",
    "#test\n",
    "q_learning_test()"
   ]
  },
  {
   "cell_type": "markdown",
   "metadata": {},
   "source": [
    " * CHECK IF EPOCHS ARE NEEDED \n",
    " * test cycle with threshold for restraining the number of episodes, THRESHOLD DOESNT SEEM NECESSARY OR DOES NOT IMPROVE THE RESULTS WHE APPLIED"
   ]
  },
  {
   "cell_type": "markdown",
   "metadata": {},
   "source": [
    "## Deep Q-Learning"
   ]
  }
 ],
 "metadata": {
  "kernelspec": {
   "display_name": "base",
   "language": "python",
   "name": "python3"
  },
  "language_info": {
   "codemirror_mode": {
    "name": "ipython",
    "version": 3
   },
   "file_extension": ".py",
   "mimetype": "text/x-python",
   "name": "python",
   "nbconvert_exporter": "python",
   "pygments_lexer": "ipython3",
   "version": "3.11.0"
  }
 },
 "nbformat": 4,
 "nbformat_minor": 2
}
