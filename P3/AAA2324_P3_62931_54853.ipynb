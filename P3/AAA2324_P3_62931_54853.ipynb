{
 "cells": [
  {
   "cell_type": "markdown",
   "metadata": {},
   "source": [
    "# Advanced Machine Learning 3rd Project\n",
    "### Authors: Guilherme Cepeda - 62931, Pedro Serrano - 54853\n"
   ]
  },
  {
   "cell_type": "markdown",
   "metadata": {},
   "source": [
    "In this third assignment, we were asked to apply reinforcement learning to the Mountain Cart problem, from Gymnasium. We will split this in two parts, one where we implement Q-Learning, and one where we implement Deep Q-Learning, as requested in the statement."
   ]
  },
  {
   "cell_type": "code",
   "execution_count": 3,
   "metadata": {},
   "outputs": [],
   "source": [
    "#imports\n",
    "import numpy as np\n",
    "import pandas as pd\n",
    "import matplotlib.pyplot as plt\n",
    "import warnings as w\n",
    "import gymnasium as gym\n",
    "import pickle\n",
    "\n",
    "import PIL.Image\n",
    "import tensorflow as tf\n",
    "from tf_agents.environments import tf_py_environment,suite_gym\n",
    "\n",
    "import torch\n",
    "from torch import nn\n",
    "import torch.nn.functional as F\n",
    "from collections import deque\n",
    "import random as r\n"
   ]
  },
  {
   "cell_type": "markdown",
   "metadata": {},
   "source": [
    "### Load Data "
   ]
  },
  {
   "cell_type": "markdown",
   "metadata": {},
   "source": [
    "For the **Mountain Car reinforcemet learning problem** the challenge lies in the continuous control problem of getting the car to move uphill by applying appropriate forces. There's no randomness in the transitions between states in the same way as it might be in a discrete grid world like FrozenLake. "
   ]
  },
  {
   "cell_type": "code",
   "execution_count": 329,
   "metadata": {},
   "outputs": [],
   "source": [
    "env = gym.make('MountainCar-v0', render_mode=\"rgb_array\") # rendered to an rbg array, returned as a NumPy array containing pixel values"
   ]
  },
  {
   "cell_type": "code",
   "execution_count": 330,
   "metadata": {},
   "outputs": [
    {
     "data": {
      "image/png": "[encoded data removed]",
      "text/plain": [
       "<Figure size 640x480 with 1 Axes>"
      ]
     },
     "metadata": {},
     "output_type": "display_data"
    }
   ],
   "source": [
    "env.reset()\n",
    "plt.imshow(env.render())\n",
    "plt.axis('off')\n",
    "plt.show()"
   ]
  },
  {
   "cell_type": "markdown",
   "metadata": {},
   "source": [
    "### Exploratory Data Analysis (EDA)"
   ]
  },
  {
   "cell_type": "markdown",
   "metadata": {},
   "source": [
    "First we started by understanding the possible states and actions of the environment.\n"
   ]
  },
  {
   "cell_type": "markdown",
   "metadata": {},
   "source": [
    "#### States\n"
   ]
  },
  {
   "cell_type": "code",
   "execution_count": 10,
   "metadata": {},
   "outputs": [
    {
     "data": {
      "text/plain": [
       "Box([-1.2  -0.07], [0.6  0.07], (2,), float32)"
      ]
     },
     "execution_count": 10,
     "metadata": {},
     "output_type": "execute_result"
    }
   ],
   "source": [
    "env.observation_space #Position of the car along the x-axis, Min: -1.2 Max: 0.6\n",
    "                      #Velocity of the car, Min:-0.07 Max: 0.07"
   ]
  },
  {
   "cell_type": "code",
   "execution_count": 76,
   "metadata": {},
   "outputs": [
    {
     "data": {
      "text/plain": [
       "0.6"
      ]
     },
     "execution_count": 76,
     "metadata": {},
     "output_type": "execute_result"
    }
   ],
   "source": [
    "env.observation_space.high[0]"
   ]
  },
  {
   "cell_type": "markdown",
   "metadata": {},
   "source": [
    "#### Actions\n",
    "\n",
    "3 actions:\n",
    "* Drive left\n",
    "* Stay neutral\n",
    "* Drive right"
   ]
  },
  {
   "cell_type": "code",
   "execution_count": 11,
   "metadata": {},
   "outputs": [
    {
     "name": "stdout",
     "output_type": "stream",
     "text": [
      "Discrete(3)\n",
      "\n",
      " 3\n"
     ]
    }
   ],
   "source": [
    "print(env.action_space) \n",
    "print(\"\\n\",env.action_space.n)"
   ]
  },
  {
   "cell_type": "code",
   "execution_count": 75,
   "metadata": {},
   "outputs": [
    {
     "data": {
      "text/plain": [
       "0"
      ]
     },
     "execution_count": 75,
     "metadata": {},
     "output_type": "execute_result"
    }
   ],
   "source": [
    "env.action_space.sample() # generates a random action sample between 0(left), 1 (neutral) and 2(right)\n"
   ]
  },
  {
   "cell_type": "code",
   "execution_count": 60,
   "metadata": {},
   "outputs": [
    {
     "data": {
      "text/plain": [
       "(array([-0.5742453 ,  0.00311769], dtype=float32), -1.0, False, False, {})"
      ]
     },
     "execution_count": 60,
     "metadata": {},
     "output_type": "execute_result"
    }
   ],
   "source": [
    "env.step(env.action_space.sample())# executes an action"
   ]
  },
  {
   "cell_type": "markdown",
   "metadata": {},
   "source": [
    "### Q - Learning"
   ]
  },
  {
   "cell_type": "markdown",
   "metadata": {},
   "source": [
    "The **Q-Learning** algorithm is an model-free, off-policy method of doing **Reinforcement Learning**. This means we will not be estimating the transition matrix and the rewards, and will be going straight after an optimal policy.\n",
    "\n",
    "We have **two environments**, the train and evaluation/test environment as this practice helps ensure that our agent is able to generalize its learned policy to unseen situations during the evaluation/testing phase.\n",
    "\n",
    "How do we do this?\n",
    "We create a Q-table, which is a lookup table of states by actions, where, in each entry [state[i], action[i]] we have stored the optimal policy for that specific request. We estimate each Q value as the sum of the immediate reward, plus the maximum Q value of the possible future actions. We usualy add a weight - the discount factor - to this second part to balance out how much we want to reward the current reward. We expect the optimal discount factor in this problem to be fairly high - its like this is most cases, we believe."
   ]
  },
  {
   "cell_type": "markdown",
   "metadata": {},
   "source": [
    "As presented in the statement, the space is continuous, so we will need to turn it into a discrete space. \n",
    "\n",
    "We use the numpy linspace function to separate the entire range of the position and velocity scalers in equal parts. Here we initilly picked 5 (yes, it was very small), and tested bigger and bigger numbers until reaching the optimum value.\n",
    "\n"
   ]
  },
  {
   "cell_type": "markdown",
   "metadata": {},
   "source": [
    "Here is where we initialize some of the models parameters\n",
    "\n",
    "The Q-table starts off by all zeros - we also tested by starting with random numbers, but it didnt improve (later we realized this was useless, since we were starting our epsilon at 1)\n",
    "\n",
    "The treshold is an alternitive to having a fixed number of episodes - instead we pick a very low treshold, and if we dont improve more than the threshold, we stop running.\n",
    "\n",
    "We have talked about the discount factor before, but here we also initizalize the learning rate - still dont know what this is specifically.\n",
    "\n",
    "We start our epsilon at 1, and keep decreasing with every episode. The epsilon gives our how much of our decision is going to be random, meaning we start off with a completely random decision, and make them less random with every episode by using our Q-table\n",
    "\n",
    "The rewards per episode is just an array, initialized at all zeros, where we will be updating our rewards."
   ]
  },
  {
   "cell_type": "code",
   "execution_count": 331,
   "metadata": {},
   "outputs": [],
   "source": [
    "def q_learning_test(training, episodes, environment):\n",
    "\n",
    "    # Divide position and velocity into segments\n",
    "    position_space = np.linspace(environment.observation_space.low[0], environment.observation_space.high[0], 20)    # position between -1.2 and 0.6\n",
    "    velocity_space = np.linspace(environment.observation_space.low[1], environment.observation_space.high[1], 20)    # velocity between -0.07 and 0.07\n",
    "\n",
    "    if(training):\n",
    "        #if we are training, we begin with an empty Q-table. Alternitivly, we can initialize random numbers\n",
    "        q_table = np.zeros((len(position_space), len(velocity_space), environment.action_space.n)) # initialize the q table with dimension 20x20x3\n",
    "    else:\n",
    "        #Otherwise, we just load the last updated Q-table from the traiinng phase\n",
    "        f = open('mountain_car.pkl', 'rb')\n",
    "        q_table = pickle.load(f)\n",
    "        f.close()\n",
    "\n",
    "    #set the threshold number for checking the convergence of the value function\n",
    "    threshold = 1e-10 # 1e-20 no effect on the episodes\n",
    "                     # 1e-5 the graph becomes mostly straight and destroys the test no longer works so threshold > 1e-5\n",
    "\n",
    "    alpha = 0.9 # alpha = learning rate\n",
    "    gamma = 0.9 # gamma = discount factor\n",
    "\n",
    "    epsilon = 1 # 100% random actions\n",
    "    epsilon_decay_rate = 2/episodes # epsilon decay rate\n",
    "    #epsilon_decay_rate = 0.99975\n",
    "\n",
    "    random_n_g = np.random.default_rng()   # random number generator\n",
    "\n",
    "    rewards_per_episode = np.zeros(episodes) # rewards per episode\n",
    "\n",
    "    for i in range(episodes):\n",
    "\n",
    "        state = environment.reset()[0]      # Starting position, starting velocity always 0\n",
    "        state_p = np.digitize(state[0], position_space) #digitize function to find which segment the value belongs to\n",
    "        state_v = np.digitize(state[1], velocity_space)\n",
    "\n",
    "        terminated = False # when terminated is true it means we reached our goal\n",
    "\n",
    "        rewards = 0 # each reward is -1\n",
    "\n",
    "        previous_q_table = np.copy(q_table)  # Copy of the Q-table from the previous episode\n",
    "\n",
    "        while(not terminated and rewards>-1000):\n",
    "\n",
    "            if training and random_n_g.random() < epsilon:\n",
    "                # Choose random action (0=drive left, 1=stay neutral, 2=drive right)\n",
    "                action = environment.action_space.sample()\n",
    "            else:\n",
    "                action = np.argmax(q_table[state_p, state_v, :]) # finds the index of the action that has the highest Q-value for the specified state in the Q-values array\n",
    "\n",
    "            new_state,reward,terminated,_,_ = environment.step(action)\n",
    "            \n",
    "            new_state_p = np.digitize(new_state[0], position_space)\n",
    "            new_state_v = np.digitize(new_state[1], velocity_space)\n",
    "\n",
    "            if training:\n",
    "                q_table[state_p, state_v, action] = q_table[state_p, state_v, action] + alpha * (\n",
    "                    reward + gamma *np.max(q_table[new_state_p, new_state_v,:]) - q_table[state_p, state_v, action]\n",
    "                ) # calculates the q value and updates the q table\n",
    "\n",
    "            state = new_state\n",
    "            state_p = new_state_p\n",
    "            state_v = new_state_v\n",
    "\n",
    "            rewards+=reward\n",
    "\n",
    "        epsilon = max(epsilon - epsilon_decay_rate, 0)\n",
    "        '''if epsilon > 0.001:\n",
    "            epsilon *= epsilon_decay_rate \n",
    "        else:\n",
    "            epsilon = 0.001'''\n",
    "\n",
    "        rewards_per_episode[i] = rewards\n",
    "\n",
    "        # Check for convergence based on the change in Q-values\n",
    "        if training and i > 0:\n",
    "            q_change = np.mean(np.abs(q_table - previous_q_table))\n",
    "            if q_change < threshold:\n",
    "                print(f\"Convergence reached. Stopping at episode {i}.\")\n",
    "                break\n",
    "            previous_q_table = np.copy(q_table)\n",
    "\n",
    "    environment.close()\n",
    "\n",
    "    # Save Q table to file\n",
    "    if training:\n",
    "        f = open('mountain_car.pkl','wb')\n",
    "        pickle.dump(q_table, f)\n",
    "        f.close()\n",
    "\n",
    "\n",
    "    #Plot the results\n",
    "    mean_rewards = np.zeros(episodes)\n",
    "    for t in range(episodes):\n",
    "        mean_rewards[t] = np.mean(rewards_per_episode[max(0, t-100):(t+1)]) #  technique to smooth out fluctuations in the learning curve to provide a more stable measure of the agent's performance over time.\n",
    "    plt.plot(mean_rewards)\n",
    "    plt.savefig(f'mountain_car.png')\n"
   ]
  },
  {
   "cell_type": "markdown",
   "metadata": {},
   "source": [
    "Below, we show a plot, displaying how the rewards improve with the episodes.\n",
    "\n",
    "We can see its learning, and then stops at a little over -200. Why is the number negative? We dont assign a reward to finishing, and we decrease our reward for every step - this is to make the algorithm choose faster paths, meaning our car took a little less than 200 steps to get to the top."
   ]
  },
  {
   "cell_type": "code",
   "execution_count": 332,
   "metadata": {},
   "outputs": [
    {
     "data": {
      "image/png": "[encoded data removed]",
      "text/plain": [
       "<Figure size 640x480 with 1 Axes>"
      ]
     },
     "metadata": {},
     "output_type": "display_data"
    }
   ],
   "source": [
    "#training\n",
    "train_env = gym.make('MountainCar-v0', render_mode=\"rgb_array\")\n",
    "q_learning_test(True,5000,train_env)"
   ]
  },
  {
   "cell_type": "markdown",
   "metadata": {},
   "source": [
    "Before, we were just training the model. Now, lets test how good our Q-table really is. \n",
    "\n",
    "Here, we use the gym package to render the GUI, and do the same plot we did before, but this time, since the values are close together, we can cleary see we get a maximum of -145, meaning we can get our car to the top with 145 steps.(CHECAR ESTA CONCLUSAO)"
   ]
  },
  {
   "cell_type": "code",
   "execution_count": 333,
   "metadata": {},
   "outputs": [
    {
     "data": {
      "image/png": "[encoded data removed]",
      "text/plain": [
       "<Figure size 640x480 with 1 Axes>"
      ]
     },
     "metadata": {},
     "output_type": "display_data"
    }
   ],
   "source": [
    "\n",
    "eval_env = gym.make('MountainCar-v0', render_mode=\"human\")# will be rendered in a window or on the screen using the standard rendering mechanism (GUI) of the system\n",
    "#test/evaluation\n",
    "q_learning_test(False, 10,eval_env)"
   ]
  },
  {
   "cell_type": "markdown",
   "metadata": {},
   "source": [
    "## Deep Q-Learning\n",
    "\n",
    "* When a neural network is created it has a random set of weight and bias.\n",
    "\n",
    "Again two environments are instantiated, one for training and one for evaluation/testing.\n",
    "\n",
    "There are two ways of doing this, with tensorflow and pytorch."
   ]
  },
  {
   "cell_type": "code",
   "execution_count": 8,
   "metadata": {},
   "outputs": [
    {
     "data": {
      "text/plain": [
       "2"
      ]
     },
     "execution_count": 8,
     "metadata": {},
     "output_type": "execute_result"
    }
   ],
   "source": [
    "#two environments instanciated\n",
    "train_env_dql = gym.make('MountainCar-v0')\n",
    "\n",
    "# Divide position and velocity into segments\n",
    "position_space = np.linspace(train_env_dql.observation_space.low[0], train_env_dql.observation_space.high[0], 20)    # position between -1.2 and 0.6\n",
    "velocity_space = np.linspace(train_env_dql.observation_space.low[1], train_env_dql.observation_space.high[1], 20)    # velocity between -0.07 and 0.07\n",
    "\n",
    "ACTIONS = [0, 1, 2]             # 0=push left, 1=no push, 2=push right, chage to Letters if needed\n",
    "\n",
    "train_env_dql.observation_space.shape[0]"
   ]
  },
  {
   "cell_type": "markdown",
   "metadata": {},
   "source": [
    "#### Auxiliar functions"
   ]
  },
  {
   "cell_type": "code",
   "execution_count": 9,
   "metadata": {},
   "outputs": [],
   "source": [
    "# Define model\n",
    "class DQN(nn.Module):\n",
    "    def __init__(self, in_states, h1_nodes, out_actions):\n",
    "        super().__init__()\n",
    "\n",
    "        # Define network layers\n",
    "        self.fc1 = nn.Linear(in_states, h1_nodes)   # first fully connected layer\n",
    "        self.out = nn.Linear(h1_nodes, out_actions) # ouptut layer w\n",
    "\n",
    "    def forward(self, x):\n",
    "        x = F.relu(self.fc1(x)) # Apply rectified linear unit (ReLU) activation\n",
    "        x = self.out(x)         # Calculate output\n",
    "        return x\n",
    "\n",
    "'''\n",
    "Converts an state (int) to a tensor representation.\n",
    "For example, the FrozenLake 4x4 map has 4x4=16 states numbered from 0 to 15. \n",
    "\n",
    "Parameters: state=5, num_states=16\n",
    "Return: tensor([0., 1., 0., 0., 0., 0., 0., 0., 0., 0., 0., 0., 0., 0., 0., 0.])\n",
    "'''\n",
    "def state_to_dqn_input(state:int, num_states:int)->torch.Tensor:\n",
    "    input_tensor = torch.zeros(num_states)\n",
    "    input_tensor[state] = 1\n",
    "    return input_tensor\n",
    "\n",
    "\n",
    "# Print DQN: state, best action, q values\n",
    "def print_dqn(dqn):\n",
    "    # Get number of input nodes\n",
    "    num_states = dqn.fc1.in_features\n",
    "    print(num_states)\n",
    "\n",
    "    # Loop each state and print policy to console\n",
    "    for s in range(num_states):\n",
    "        #  Format q values for printing\n",
    "        q_values = ''\n",
    "        for q in dqn(state_to_dqn_input(s, num_states)).tolist():\n",
    "            q_values += \"{:+.2f}\".format(q)+' '  # Concatenate q values, format to 2 decimals\n",
    "        q_values=q_values.rstrip()              # Remove space at the end\n",
    "\n",
    "        # Map the best action to L D R U\n",
    "        best_action = dqn(state_to_dqn_input(s, num_states)).argmax()\n",
    "\n",
    "        # Print policy in the format of: state, action, q values\n",
    "        # The printed layout matches the FrozenLake map.\n",
    "        print(f'{s:02},{best_action},[{q_values}]', end=' ')         \n",
    "        if (s+1)%4==0:\n",
    "            print() # Print a newline every 4 states\n",
    "\n",
    "\n",
    "\n",
    "\n",
    "# Optimize policy network\n",
    "def optimize(mini_batch, policy_dqn, target_dqn, discount_factor_g, loss_fn, optimizer):\n",
    "    # Get number of input nodes\n",
    "    num_states = policy_dqn.fc1.in_features\n",
    "\n",
    "    current_q_list = []\n",
    "    target_q_list = []\n",
    "\n",
    "    for state, action, new_state, reward, terminated in mini_batch:\n",
    "\n",
    "        if terminated: \n",
    "            # When in a terminated state, target q value should be set to the reward.\n",
    "            target = torch.FloatTensor([reward])\n",
    "        else:\n",
    "            # Calculate target q value \n",
    "            with torch.no_grad():\n",
    "                target = torch.FloatTensor(\n",
    "                    reward + discount_factor_g * target_dqn(state_to_dqn_input(new_state, num_states)).max()\n",
    "                )\n",
    "\n",
    "        # Get the current set of Q values\n",
    "        current_q = policy_dqn(state_to_dqn_input(state, num_states))\n",
    "        current_q_list.append(current_q)\n",
    "\n",
    "        # Get the target set of Q values\n",
    "        target_q = target_dqn(state_to_dqn_input(state, num_states)) \n",
    "        # Adjust the specific action to the target that was just calculated\n",
    "        target_q[action] = target\n",
    "        target_q_list.append(target_q)\n",
    "            \n",
    "    # Compute loss for the whole minibatch\n",
    "    loss = loss_fn(torch.stack(current_q_list), torch.stack(target_q_list))\n",
    "\n",
    "    # Optimize the model\n",
    "    optimizer.zero_grad()\n",
    "    loss.backward()\n",
    "    optimizer.step()\n"
   ]
  },
  {
   "cell_type": "markdown",
   "metadata": {},
   "source": [
    "#### "
   ]
  },
  {
   "cell_type": "code",
   "execution_count": 12,
   "metadata": {},
   "outputs": [],
   "source": [
    "#function for the deep q-learning algorithm\n",
    "def deep_q_learning_training(episodes):\n",
    "    #hyperparameters \n",
    "    learning_rate_a = 0.001         # learning rate (alpha)\n",
    "    discount_factor_g = 0.9         # discount rate (gamma)    \n",
    "    network_sync_rate = 10          # number of steps the agent takes before syncing the policy and target network\n",
    "    replay_memory_size = 1000       # size of replay memory\n",
    "    mini_batch_size = 32            # size of the training data set sampled from the replay memory\n",
    "\n",
    "    random_n_g = np.random.default_rng()   # random number generator\n",
    "    n_states = train_env_dql.observation_space.shape[0] #len(position_space) + len(velocity_space)# the neural network must kow the dimensions correctly #train_env_dql.observation_space.shape[0]\n",
    "    n_actions = train_env_dql.action_space.n\n",
    "\n",
    "    # Neural Network\n",
    "    loss_fn = nn.MSELoss()          # NN Loss function. MSE=Mean Squared Error can be swapped to something else.\n",
    "    optimizer = None                # NN Optimizer. Initialize later.\n",
    "\n",
    "    epsilon = 1 # as before epsilon = 1 is 100% random actions\n",
    "\n",
    "\n",
    "    #replay memory\n",
    "    replay_mem = deque([], maxlen=replay_memory_size)\n",
    "\n",
    "    # Create policy and target network. Number of nodes in the hidden layer can be adjusted.\n",
    "    policy_dqn = DQN(in_states=n_states, h1_nodes=n_states, out_actions=n_actions)\n",
    "    target_dqn = DQN(in_states=n_states, h1_nodes=n_states, out_actions=n_actions)\n",
    "    #target_dqn = nn.Linear(n_states,n_actions)\n",
    "\n",
    "    # Make the target and policy networks the same (copy weights/biases from one network to the other)\n",
    "    target_dqn.load_state_dict(policy_dqn.state_dict())\n",
    "    \n",
    "    print('Policy (random, before training):')\n",
    "    print_dqn(policy_dqn)\n",
    "\n",
    "    # Policy network optimizer Adam\n",
    "    optimizer = torch.optim.Adam(policy_dqn.parameters(), lr=learning_rate_a)\n",
    "\n",
    "    # List to keep track of rewards collected per episode. Initialize list to 0's.\n",
    "    rewards_per_episode = np.zeros(episodes)\n",
    "\n",
    "    # List to keep track of epsilon decay\n",
    "    epsilon_history = []\n",
    "\n",
    "    # Track number of steps taken. Used for syncing policy => target network.\n",
    "    step_count = 0\n",
    "\n",
    "    for i in range(episodes):\n",
    "        state = train_env_dql.reset()  # Initialize to initial state\n",
    "        #state_p = np.digitize(state[0], position_space) #digitize function to find which segment the value belongs to\n",
    "        #state_v = np.digitize(state[1], velocity_space)\n",
    "        terminated = False   # True when episode is terminated\n",
    "\n",
    "        rewards = 0 # each reward is -1\n",
    "\n",
    "        # Agent takes actions until the episode is terminated\n",
    "        while (not terminated and rewards>-1000):\n",
    "            # Select action based on epsilon-greedy\n",
    "            if random_n_g.random() < epsilon:\n",
    "                action = train_env_dql.action_space.sample()\n",
    "            else:\n",
    "                with torch.no_grad():\n",
    "                    # Compute Q-values using the policy network\n",
    "                    q_values = policy_dqn(state_to_dqn_input(state, n_states))\n",
    "\n",
    "                    # Extract the action as a scalar\n",
    "                    action = q_values.argmax().item()\n",
    "\n",
    "            # Execute action\n",
    "            new_state, reward, terminated,_= train_env_dql.step(action)\n",
    "\n",
    "            #new_state_p = np.digitize(new_state[0], position_space)\n",
    "            #new_state_v = np.digitize(new_state[1], velocity_space)\n",
    "\n",
    "            # Save experience into memory\n",
    "            replay_mem.append((state, action, new_state, reward, terminated))\n",
    "\n",
    "            # Move to the next state\n",
    "            state = new_state\n",
    "            #state_p = new_state_p\n",
    "            #state_v = new_state_v\n",
    "\n",
    "            # Increment step counter\n",
    "            step_count += 1\n",
    "\n",
    "            rewards+=reward\n",
    "\n",
    "        # Keep track of the rewards collected per episode.\n",
    "        rewards_per_episode[i] = reward\n",
    "\n",
    "        # Check if enough experience has been collected\n",
    "        if len(replay_mem) > mini_batch_size:\n",
    "            mini_batch = r.sample(replay_mem, mini_batch_size)\n",
    "            optimize(mini_batch, policy_dqn, target_dqn,discount_factor_g,loss_fn,optimizer)\n",
    "\n",
    "            # Decay epsilon\n",
    "            epsilon = max(epsilon - 1 / episodes, 0)\n",
    "            epsilon_history.append(epsilon)\n",
    "\n",
    "            # Copy policy network to target network after a certain number of steps\n",
    "            if step_count > network_sync_rate:\n",
    "                target_dqn.load_state_dict(policy_dqn.state_dict())\n",
    "                step_count = 0\n",
    "    \n",
    "    # Close environment\n",
    "    train_env_dql.close()\n",
    "\n",
    "    # Save policy\n",
    "    torch.save(policy_dqn.state_dict(), \"mountain_car_dql.pt\")\n",
    "\n",
    "    # Create new graph\n",
    "    plt.figure(1)\n",
    "\n",
    "    # Plot average rewards (Y-axis) vs episodes (X-axis)\n",
    "    sum_rewards = np.zeros(episodes)\n",
    "    for x in range(episodes):\n",
    "        sum_rewards[x] = np.sum(rewards_per_episode[max(0, x - 100):(x + 1)])\n",
    "    plt.subplot(121)  # plot on a 1 row x 2 col grid, at cell 1\n",
    "    plt.plot(sum_rewards)\n",
    "\n",
    "    # Plot epsilon decay (Y-axis) vs episodes (X-axis)\n",
    "    plt.subplot(122)  # plot on a 1 row x 2 col grid, at cell 2\n",
    "    plt.plot(epsilon_history)\n",
    "\n",
    "    # Save plots\n",
    "    plt.savefig('mountain_car_dql.png')\n",
    "\n"
   ]
  },
  {
   "cell_type": "code",
   "execution_count": 13,
   "metadata": {},
   "outputs": [
    {
     "name": "stdout",
     "output_type": "stream",
     "text": [
      "Policy (random, before training):\n",
      "2\n",
      "00,2,[-0.27 -0.20 +0.46] 01,2,[-0.41 -0.28 +0.44] "
     ]
    },
    {
     "data": {
      "image/png": "[encoded data removed]",
      "text/plain": [
       "<Figure size 640x480 with 2 Axes>"
      ]
     },
     "metadata": {},
     "output_type": "display_data"
    }
   ],
   "source": [
    "#training \n",
    "deep_q_learning_training(5000)"
   ]
  },
  {
   "cell_type": "code",
   "execution_count": 16,
   "metadata": {},
   "outputs": [],
   "source": [
    "# Run the Mountain Car environment with the learned policy\n",
    "def deep_q_learning_test(episodes):\n",
    "    # Create Mountain Car instance\n",
    "    eval_env_dql = gym.make('MountainCar-v0')\n",
    "    n_states = len(position_space) + len(velocity_space)\n",
    "    n_actions = eval_env_dql.action_space.n\n",
    "\n",
    "    # Load learned policy\n",
    "    policy_dqn = DQN(in_states=n_states, h1_nodes=n_states, out_actions=n_actions)\n",
    "    policy_dqn.load_state_dict(torch.load(\"mountain_car_dql.pt\"))\n",
    "    policy_dqn.eval()    # switch model to evaluation mode\n",
    "\n",
    "    \n",
    "\n",
    "    print('Policy (trained):')\n",
    "    print_dqn(policy_dqn)\n",
    "\n",
    "    for i in range(episodes):\n",
    "        state = eval_env_dql.reset()[0]  # Initialize to state 0\n",
    "        terminated = False      # True when agent falls in hole or reached goal        \n",
    "\n",
    "        rewards = 0 # each reward is -1\n",
    "\n",
    "        # Agent navigates map until it reaches the goal (flag) or it rewaches a reward of -1000\n",
    "        while(not terminated and rewards>-1000):  \n",
    "            # Select best action   \n",
    "            with torch.no_grad():\n",
    "                action = policy_dqn(state_to_dqn_input(state, n_states)).argmax().item()\n",
    "\n",
    "            # Execute action\n",
    "            state,reward,terminated,_ = env.step(action)\n",
    "\n",
    "            rewards+=reward\n",
    "\n",
    "    eval_env_dql.close()"
   ]
  },
  {
   "cell_type": "code",
   "execution_count": 17,
   "metadata": {},
   "outputs": [
    {
     "ename": "RuntimeError",
     "evalue": "Error(s) in loading state_dict for DQN:\n\tsize mismatch for fc1.weight: copying a param with shape torch.Size([2, 2]) from checkpoint, the shape in current model is torch.Size([40, 40]).\n\tsize mismatch for fc1.bias: copying a param with shape torch.Size([2]) from checkpoint, the shape in current model is torch.Size([40]).\n\tsize mismatch for out.weight: copying a param with shape torch.Size([3, 2]) from checkpoint, the shape in current model is torch.Size([3, 40]).",
     "output_type": "error",
     "traceback": [
      "\u001b[1;31m---------------------------------------------------------------------------\u001b[0m",
      "\u001b[1;31mRuntimeError\u001b[0m                              Traceback (most recent call last)",
      "Cell \u001b[1;32mIn[17], line 2\u001b[0m\n\u001b[0;32m      1\u001b[0m \u001b[38;5;66;03m#testing\u001b[39;00m\n\u001b[1;32m----> 2\u001b[0m \u001b[43mdeep_q_learning_test\u001b[49m\u001b[43m(\u001b[49m\u001b[38;5;241;43m10\u001b[39;49m\u001b[43m)\u001b[49m\n",
      "Cell \u001b[1;32mIn[16], line 10\u001b[0m, in \u001b[0;36mdeep_q_learning_test\u001b[1;34m(episodes)\u001b[0m\n\u001b[0;32m      8\u001b[0m \u001b[38;5;66;03m# Load learned policy\u001b[39;00m\n\u001b[0;32m      9\u001b[0m policy_dqn \u001b[38;5;241m=\u001b[39m DQN(in_states\u001b[38;5;241m=\u001b[39mn_states, h1_nodes\u001b[38;5;241m=\u001b[39mn_states, out_actions\u001b[38;5;241m=\u001b[39mn_actions)\n\u001b[1;32m---> 10\u001b[0m \u001b[43mpolicy_dqn\u001b[49m\u001b[38;5;241;43m.\u001b[39;49m\u001b[43mload_state_dict\u001b[49m\u001b[43m(\u001b[49m\u001b[43mtorch\u001b[49m\u001b[38;5;241;43m.\u001b[39;49m\u001b[43mload\u001b[49m\u001b[43m(\u001b[49m\u001b[38;5;124;43m\"\u001b[39;49m\u001b[38;5;124;43mmountain_car_dql.pt\u001b[39;49m\u001b[38;5;124;43m\"\u001b[39;49m\u001b[43m)\u001b[49m\u001b[43m)\u001b[49m\n\u001b[0;32m     11\u001b[0m policy_dqn\u001b[38;5;241m.\u001b[39meval()    \u001b[38;5;66;03m# switch model to evaluation mode\u001b[39;00m\n\u001b[0;32m     15\u001b[0m \u001b[38;5;28mprint\u001b[39m(\u001b[38;5;124m'\u001b[39m\u001b[38;5;124mPolicy (trained):\u001b[39m\u001b[38;5;124m'\u001b[39m)\n",
      "File \u001b[1;32mc:\\Users\\guilh\\anaconda3\\Lib\\site-packages\\torch\\nn\\modules\\module.py:2041\u001b[0m, in \u001b[0;36mModule.load_state_dict\u001b[1;34m(self, state_dict, strict)\u001b[0m\n\u001b[0;32m   2036\u001b[0m         error_msgs\u001b[38;5;241m.\u001b[39minsert(\n\u001b[0;32m   2037\u001b[0m             \u001b[38;5;241m0\u001b[39m, \u001b[38;5;124m'\u001b[39m\u001b[38;5;124mMissing key(s) in state_dict: \u001b[39m\u001b[38;5;132;01m{}\u001b[39;00m\u001b[38;5;124m. \u001b[39m\u001b[38;5;124m'\u001b[39m\u001b[38;5;241m.\u001b[39mformat(\n\u001b[0;32m   2038\u001b[0m                 \u001b[38;5;124m'\u001b[39m\u001b[38;5;124m, \u001b[39m\u001b[38;5;124m'\u001b[39m\u001b[38;5;241m.\u001b[39mjoin(\u001b[38;5;124m'\u001b[39m\u001b[38;5;124m\"\u001b[39m\u001b[38;5;132;01m{}\u001b[39;00m\u001b[38;5;124m\"\u001b[39m\u001b[38;5;124m'\u001b[39m\u001b[38;5;241m.\u001b[39mformat(k) \u001b[38;5;28;01mfor\u001b[39;00m k \u001b[38;5;129;01min\u001b[39;00m missing_keys)))\n\u001b[0;32m   2040\u001b[0m \u001b[38;5;28;01mif\u001b[39;00m \u001b[38;5;28mlen\u001b[39m(error_msgs) \u001b[38;5;241m>\u001b[39m \u001b[38;5;241m0\u001b[39m:\n\u001b[1;32m-> 2041\u001b[0m     \u001b[38;5;28;01mraise\u001b[39;00m \u001b[38;5;167;01mRuntimeError\u001b[39;00m(\u001b[38;5;124m'\u001b[39m\u001b[38;5;124mError(s) in loading state_dict for \u001b[39m\u001b[38;5;132;01m{}\u001b[39;00m\u001b[38;5;124m:\u001b[39m\u001b[38;5;130;01m\\n\u001b[39;00m\u001b[38;5;130;01m\\t\u001b[39;00m\u001b[38;5;132;01m{}\u001b[39;00m\u001b[38;5;124m'\u001b[39m\u001b[38;5;241m.\u001b[39mformat(\n\u001b[0;32m   2042\u001b[0m                        \u001b[38;5;28mself\u001b[39m\u001b[38;5;241m.\u001b[39m\u001b[38;5;18m__class__\u001b[39m\u001b[38;5;241m.\u001b[39m\u001b[38;5;18m__name__\u001b[39m, \u001b[38;5;124m\"\u001b[39m\u001b[38;5;130;01m\\n\u001b[39;00m\u001b[38;5;130;01m\\t\u001b[39;00m\u001b[38;5;124m\"\u001b[39m\u001b[38;5;241m.\u001b[39mjoin(error_msgs)))\n\u001b[0;32m   2043\u001b[0m \u001b[38;5;28;01mreturn\u001b[39;00m _IncompatibleKeys(missing_keys, unexpected_keys)\n",
      "\u001b[1;31mRuntimeError\u001b[0m: Error(s) in loading state_dict for DQN:\n\tsize mismatch for fc1.weight: copying a param with shape torch.Size([2, 2]) from checkpoint, the shape in current model is torch.Size([40, 40]).\n\tsize mismatch for fc1.bias: copying a param with shape torch.Size([2]) from checkpoint, the shape in current model is torch.Size([40]).\n\tsize mismatch for out.weight: copying a param with shape torch.Size([3, 2]) from checkpoint, the shape in current model is torch.Size([3, 40])."
     ]
    }
   ],
   "source": [
    "#testing\n",
    "deep_q_learning_test(10)"
   ]
  },
  {
   "cell_type": "code",
   "execution_count": 18,
   "metadata": {},
   "outputs": [
    {
     "name": "stdout",
     "output_type": "stream",
     "text": [
      "Episode 0, Total Reward: -200.0, Epsilon: 0.995\n",
      "Episode 10, Total Reward: -200.0, Epsilon: 0.946354579813443\n",
      "Episode 20, Total Reward: -200.0, Epsilon: 0.9000874278732445\n",
      "Episode 30, Total Reward: -200.0, Epsilon: 0.8560822709551227\n",
      "Episode 40, Total Reward: -200.0, Epsilon: 0.8142285204175609\n",
      "Episode 50, Total Reward: -200.0, Epsilon: 0.7744209942832988\n",
      "Episode 60, Total Reward: -200.0, Epsilon: 0.736559652908221\n",
      "Episode 70, Total Reward: -200.0, Epsilon: 0.7005493475733617\n",
      "Episode 80, Total Reward: -200.0, Epsilon: 0.6662995813682115\n",
      "Episode 90, Total Reward: -200.0, Epsilon: 0.6337242817644086\n",
      "Episode 100, Total Reward: -200.0, Epsilon: 0.6027415843082742\n",
      "Episode 110, Total Reward: -200.0, Epsilon: 0.5732736268885887\n",
      "Episode 120, Total Reward: -200.0, Epsilon: 0.5452463540625918\n",
      "Episode 130, Total Reward: -200.0, Epsilon: 0.5185893309484582\n",
      "Episode 140, Total Reward: -200.0, Epsilon: 0.4932355662165453\n",
      "Episode 150, Total Reward: -200.0, Epsilon: 0.46912134373457726\n",
      "Episode 160, Total Reward: -200.0, Epsilon: 0.446186062443672\n",
      "Episode 170, Total Reward: -200.0, Epsilon: 0.42437208406280985\n",
      "Episode 180, Total Reward: -200.0, Epsilon: 0.4036245882390106\n",
      "Episode 190, Total Reward: -200.0, Epsilon: 0.38389143477919885\n",
      "Episode 200, Total Reward: -200.0, Epsilon: 0.36512303261753626\n",
      "Episode 210, Total Reward: -200.0, Epsilon: 0.3472722151889232\n",
      "Episode 220, Total Reward: -200.0, Epsilon: 0.3302941218954743\n",
      "Episode 230, Total Reward: -200.0, Epsilon: 0.3141460853680822\n",
      "Episode 240, Total Reward: -200.0, Epsilon: 0.2987875242397482\n",
      "Episode 250, Total Reward: -200.0, Epsilon: 0.28417984116121187\n",
      "Episode 260, Total Reward: -200.0, Epsilon: 0.2702863258025825\n",
      "Episode 270, Total Reward: -200.0, Epsilon: 0.2570720625972084\n",
      "Episode 280, Total Reward: -200.0, Epsilon: 0.24450384299593592\n",
      "Episode 290, Total Reward: -200.0, Epsilon: 0.23255008201124722\n",
      "Episode 300, Total Reward: -200.0, Epsilon: 0.2211807388415433\n",
      "Episode 310, Total Reward: -200.0, Epsilon: 0.21036724137609603\n",
      "Episode 320, Total Reward: -200.0, Epsilon: 0.2000824143909432\n",
      "Episode 330, Total Reward: -200.0, Epsilon: 0.1903004112552766\n",
      "Episode 340, Total Reward: -200.0, Epsilon: 0.18099664897669618\n",
      "Episode 350, Total Reward: -200.0, Epsilon: 0.17214774642209296\n",
      "Episode 360, Total Reward: -200.0, Epsilon: 0.16373146555890544\n",
      "Episode 370, Total Reward: -200.0, Epsilon: 0.1557266555690826\n",
      "Episode 380, Total Reward: -200.0, Epsilon: 0.14811319969530845\n",
      "Episode 390, Total Reward: -200.0, Epsilon: 0.14087196468590776\n",
      "Episode 400, Total Reward: -200.0, Epsilon: 0.13398475271138335\n",
      "Episode 410, Total Reward: -200.0, Epsilon: 0.12743425563174798\n",
      "Episode 420, Total Reward: -200.0, Epsilon: 0.12120401149972035\n",
      "Episode 430, Total Reward: -165.0, Epsilon: 0.11527836319047392\n",
      "Episode 440, Total Reward: -200.0, Epsilon: 0.10964241905397228\n",
      "Episode 450, Total Reward: -190.0, Epsilon: 0.1042820154910064\n",
      "Episode 460, Total Reward: -200.0, Epsilon: 0.09918368135888474\n",
      "Episode 470, Total Reward: -200.0, Epsilon: 0.0943346041173244\n",
      "Episode 480, Total Reward: -185.0, Epsilon: 0.08972259762946533\n",
      "Episode 490, Total Reward: -192.0, Epsilon: 0.08533607153708872\n"
     ]
    },
    {
     "data": {
      "image/png": "[encoded data removed]",
      "text/plain": [
       "<Figure size 640x480 with 1 Axes>"
      ]
     },
     "metadata": {},
     "output_type": "display_data"
    },
    {
     "data": {
      "image/png": "[encoded data removed]",
      "text/plain": [
       "<Figure size 640x480 with 1 Axes>"
      ]
     },
     "metadata": {},
     "output_type": "display_data"
    },
    {
     "name": "stdout",
     "output_type": "stream",
     "text": [
      "Test Episode 0, Total Reward: -200.0\n",
      "Test Episode 1, Total Reward: -200.0\n",
      "Test Episode 2, Total Reward: -200.0\n",
      "Test Episode 3, Total Reward: -200.0\n",
      "Test Episode 4, Total Reward: -200.0\n",
      "Test Episode 5, Total Reward: -200.0\n",
      "Test Episode 6, Total Reward: -200.0\n",
      "Test Episode 7, Total Reward: -200.0\n",
      "Test Episode 8, Total Reward: -200.0\n",
      "Test Episode 9, Total Reward: -200.0\n"
     ]
    }
   ],
   "source": [
    "import gym\n",
    "import torch\n",
    "import torch.nn as nn\n",
    "import torch.optim as optim\n",
    "import numpy as np\n",
    "import random\n",
    "from collections import deque\n",
    "\n",
    "# Neural network model\n",
    "class DQN(nn.Module):\n",
    "    def __init__(self, input_size, output_size):\n",
    "        super(DQN, self).__init__()\n",
    "        self.fc1 = nn.Linear(input_size, 64)\n",
    "        self.fc2 = nn.Linear(64, 32)\n",
    "        self.fc3 = nn.Linear(32, output_size)\n",
    "\n",
    "    def forward(self, x):\n",
    "        x = torch.relu(self.fc1(x))\n",
    "        x = torch.relu(self.fc2(x))\n",
    "        x = self.fc3(x)\n",
    "        return x\n",
    "\n",
    "# Experience replay buffer\n",
    "class ReplayBuffer:\n",
    "    def __init__(self, capacity):\n",
    "        self.buffer = deque(maxlen=capacity)\n",
    "\n",
    "    def push(self, transition):\n",
    "        self.buffer.append(transition)\n",
    "\n",
    "    def sample(self, batch_size):\n",
    "        batch = random.sample(self.buffer, batch_size)\n",
    "        states, actions, rewards, next_states, dones = zip(*batch)\n",
    "        return (\n",
    "            torch.FloatTensor(states),\n",
    "            torch.LongTensor(actions),\n",
    "            torch.FloatTensor(rewards),\n",
    "            torch.FloatTensor(next_states),\n",
    "            torch.BoolTensor(dones)\n",
    "        )\n",
    "\n",
    "    def __len__(self):\n",
    "        return len(self.buffer)\n",
    "\n",
    "# Deep Q-Learning agent\n",
    "class DQNAgent:\n",
    "    def __init__(self, env, buffer_capacity=10000, batch_size=64, gamma=0.99, lr=1e-3, epsilon_decay=0.995):\n",
    "        self.env = env\n",
    "        self.device = torch.device(\"cuda\" if torch.cuda.is_available() else \"cpu\")\n",
    "        self.buffer = ReplayBuffer(buffer_capacity)\n",
    "        self.batch_size = batch_size\n",
    "        self.gamma = gamma\n",
    "        self.epsilon = 1.0\n",
    "        self.epsilon_min = 0.01\n",
    "        self.epsilon_decay = epsilon_decay\n",
    "        self.model = DQN(env.observation_space.shape[0], env.action_space.n).to(self.device)\n",
    "        self.target_model = DQN(env.observation_space.shape[0], env.action_space.n).to(self.device)\n",
    "        self.target_model.load_state_dict(self.model.state_dict())\n",
    "        self.optimizer = optim.Adam(self.model.parameters(), lr=lr)\n",
    "        self.loss_fn = nn.MSELoss()\n",
    "\n",
    "    def select_action(self, state):\n",
    "        if random.random() < self.epsilon:\n",
    "            return self.env.action_space.sample()  # Explore\n",
    "        else:\n",
    "            with torch.no_grad():\n",
    "                q_values = self.model(torch.FloatTensor(state).to(self.device))\n",
    "                return q_values.argmax().item()  # Exploit\n",
    "\n",
    "    def train(self):\n",
    "        if len(self.buffer) < self.batch_size:\n",
    "            return\n",
    "\n",
    "        states, actions, rewards, next_states, dones = self.buffer.sample(self.batch_size)\n",
    "\n",
    "        current_q_values = self.model(states).gather(1, actions.unsqueeze(1))\n",
    "        target_q_values = rewards.unsqueeze(1) + self.gamma * (~dones.unsqueeze(1)) * \\\n",
    "                  self.target_model(next_states).max(1)[0].unsqueeze(1)\n",
    "\n",
    "\n",
    "        loss = self.loss_fn(current_q_values, target_q_values)\n",
    "\n",
    "        self.optimizer.zero_grad()\n",
    "        loss.backward()\n",
    "        self.optimizer.step()\n",
    "\n",
    "    def update_target_model(self):\n",
    "        self.target_model.load_state_dict(self.model.state_dict())\n",
    "\n",
    "        \n",
    "\n",
    "    def train_agent(self, episodes=1000, target_update_frequency=10):\n",
    "        total_rewards = []\n",
    "        epsilon_values = []\n",
    "\n",
    "        for episode in range(episodes):\n",
    "            state = self.env.reset()\n",
    "            done = False\n",
    "            total_reward = 0\n",
    "\n",
    "            while not done:\n",
    "                action = self.select_action(state)\n",
    "                next_state, reward, done, _ = self.env.step(action)\n",
    "\n",
    "                self.buffer.push((state, action, reward, next_state, done))\n",
    "                self.train()\n",
    "\n",
    "                state = next_state\n",
    "                total_reward += reward\n",
    "\n",
    "            total_rewards.append(total_reward)\n",
    "            epsilon_values.append(self.epsilon)\n",
    "\n",
    "            if episode % target_update_frequency == 0:\n",
    "                self.update_target_model()\n",
    "\n",
    "            self.epsilon = max(self.epsilon * self.epsilon_decay, self.epsilon_min)\n",
    "\n",
    "            if episode % 10 == 0:\n",
    "                print(f\"Episode {episode}, Total Reward: {total_reward}, Epsilon: {self.epsilon}\")\n",
    "\n",
    "        \n",
    "         # Plot epsilon decay\n",
    "        plt.plot(epsilon_values)\n",
    "        plt.xlabel('Episodes')\n",
    "        plt.ylabel('Epsilon')\n",
    "        plt.title('Epsilon Decay')\n",
    "        plt.show()\n",
    "\n",
    "        return total_rewards\n",
    "\n",
    "    def test_agent(self, episodes=10):\n",
    "        for episode in range(episodes):\n",
    "            state = self.env.reset()\n",
    "            done = False\n",
    "            total_reward = 0\n",
    "\n",
    "            while not done:\n",
    "                self.env.render()\n",
    "                action = self.select_action(state)\n",
    "                state, reward, done, _ = self.env.step(action)\n",
    "                total_reward += reward\n",
    "\n",
    "            print(f\"Test Episode {episode}, Total Reward: {total_reward}\")\n",
    "\n",
    "# Create Mountain Car environment\n",
    "env = gym.make('MountainCar-v0')\n",
    "\n",
    "# Initialize DQNAgent\n",
    "agent = DQNAgent(env)\n",
    "\n",
    "# Train the agent\n",
    "total_rewards = agent.train_agent(episodes=500)\n",
    "\n",
    "# Plot mean rewards\n",
    "mean_rewards = np.convolve(total_rewards, np.ones(100) / 100, mode='valid')\n",
    "plt.plot(mean_rewards)\n",
    "plt.xlabel('Episodes')\n",
    "plt.ylabel('Mean Reward (Smoothed)')\n",
    "plt.title('Mean Rewards over Episodes')\n",
    "plt.show()\n",
    "\n",
    "# Test the agent\n",
    "agent.test_agent()\n",
    "\n",
    "# Close the environment\n",
    "env.close()\n"
   ]
  },
  {
   "cell_type": "code",
   "execution_count": 123,
   "metadata": {},
   "outputs": [],
   "source": [
    "import gym\n",
    "import numpy as np \n",
    "import matplotlib.pyplot as plt\n",
    "import time\n",
    "import random\n",
    "from collections import deque\n",
    "import tensorflow as tf\n",
    "from tqdm import tqdm \n",
    "from tensorflow.keras import Sequential \n",
    "from tensorflow.keras.activations import relu, linear\n",
    "from tensorflow.keras.layers import Dense\n",
    "from tensorflow.keras.optimizers import RMSprop\n",
    "import math\n",
    "\n",
    "\n",
    "class Model:\n",
    "    def __init__(self, input_dim, output_dim, lr):\n",
    "        self.input_dim = input_dim\n",
    "        self.output_dim = output_dim\n",
    "        self.lr = lr\n",
    "        self.Qpolicy = self.create()\n",
    "        self.Qtarget = self.create() \n",
    "        self.Qtarget.set_weights(self.Qpolicy.get_weights())\n",
    "        \n",
    "    def create(self):\n",
    "        model = Sequential()\n",
    "        model.add(Dense(512, input_dim = self.input_dim, activation = 'relu'))\n",
    "        model.add(Dense(256, activation = 'relu'))\n",
    "        model.add(Dense(128, activation = 'relu'))\n",
    "        model.add(Dense(self.output_dim, activation = 'linear'))\n",
    "        model.compile(optimizer = RMSprop(lr = self.lr, rho = 0.95, epsilon = 0.01), loss = \"mse\", metrics = ['accuracy'])\n",
    "        return model\n",
    "\n",
    "class DQNAgent:\n",
    "    def __init__(self, lr = 2.5e-4, gamma = 0.99, epsilon = 1, decay_coe = 0.99975, min_eps = 0.001, \n",
    "                 batch_size = 64, memory_size = 10_000, episodes = 5_000, C = 5):\n",
    "        \n",
    "        self.env = gym.make('MountainCar-v0')\n",
    "\n",
    "        self.states = len(env.observation_space.low)\n",
    "        self.n_actions = env.action_space.n\n",
    "        \n",
    "        self.actions = [i for i in range(self.n_actions)]\n",
    "        \n",
    "        self.lr = lr \n",
    "        self.gamma = gamma\n",
    "        self.epsilon = epsilon \n",
    "        self.decay_coe = decay_coe\n",
    "        self.min_eps = min_eps\n",
    "        self.episodes = episodes\n",
    "        self.batch_size = batch_size\n",
    "        self.D = deque(maxlen = memory_size) # replay memory \n",
    "        self.C = C\n",
    "        \n",
    "        self.terminal_state = False # end of the episode\n",
    "        self.target_counter = 0 \n",
    "        \n",
    "        # Plot data\n",
    "        self.timestep = self.episodes / 10\n",
    "        self.history = [] \n",
    "        self.reward_data = []\n",
    "        self.epsilon_data = []\n",
    "        \n",
    "        \n",
    "        \n",
    "        self.model = Model(self.states, self.n_actions, self.lr)\n",
    "        # Smooth epsilon \n",
    "        self.a = 0.35\n",
    "        self.b = 0.1\n",
    "        self.c = 0.01\n",
    "        \n",
    "    def state_shape(self,states):\n",
    "        states = np.array(states)\n",
    "        return states.reshape(-1,*states.shape)\n",
    "    \n",
    "    def decrement_epsilon(self, time):\n",
    "        '''\n",
    "        if self.epsilon > self.min_eps:\n",
    "            self.epsilon *= self.decay_coe\n",
    "        else:\n",
    "            self.epsilon = self.min_eps\n",
    "        '''\n",
    "        s_time = (time - self.a*self.episodes) / (self.b*self.episodes) \n",
    "        cosh = np.cosh(math.exp(-s_time))\n",
    "        self.epsilon = 1 - (1/cosh + (time*self.c/self.episodes))\n",
    "\n",
    "    def update_D(self, s, a, r, s_, done):\n",
    "        self.D.append([self.state_shape(s), a, r, self.state_shape(s_), done])\n",
    "        \n",
    "    def choose_action(self, states):\n",
    "        if np.random.random() > (1 - self.epsilon):\n",
    "            action = np.random.choice(self.actions)\n",
    "        else:\n",
    "            states = self.state_shape(states)\n",
    "            action = np.argmax(self.model.Qpolicy.predict(states))\n",
    "            \n",
    "        return action\n",
    "            \n",
    "    def minibatch(self):\n",
    "        return random.sample(self.D, self.batch_size)\n",
    "    \n",
    "    def graphs(self, episode):\n",
    "        f1 = plt.figure(1)\n",
    "        plt.plot([i for i in range(len(self.reward_data))], self.reward_data)\n",
    "        plt.ylabel('Score per episode')\n",
    "        plt.xlabel('Episodes')\n",
    "        plt.savefig(r'RL/reward - e{}v2.png'.format(episode), dpi = 500)\n",
    "        \n",
    "        f2 = plt.figure(2)\n",
    "        plt.plot([i for i in range(len(self.epsilon_data))], self.epsilon_data)\n",
    "        plt.ylabel('Epsilon')\n",
    "        plt.xlabel('Episodes')\n",
    "        plt.savefig(r'RL/epsilon - e{}v2.png'.format(episode), dpi = 500)\n",
    "        \n",
    "        f3 = plt.figure(3)\n",
    "        plt.plot([i for i in range(len(self.history))], self.history)\n",
    "        plt.ylabel('Loss')\n",
    "        plt.xlabel('Iterations')\n",
    "        plt.savefig(r'RL/loss - e{}v2.png'.format(episode), dpi = 500)\n",
    "        \n",
    "    def train(self):\n",
    "        # X - states passed to the NN, y - target\n",
    "        \n",
    "        X, y = [], []\n",
    "        \n",
    "        if len(self.D) >= self.batch_size: \n",
    "            SARS = self.minibatch()\n",
    "        \n",
    "            s = self.state_shape([row[0] for row in SARS])\n",
    "            qvalue = self.model.Qpolicy.predict(s)[0]\n",
    "\n",
    "            s_ = self.state_shape([row[3] for row in SARS])\n",
    "            future_qvalue = self.model.Qtarget.predict(s_)[0]\n",
    "\n",
    "            for index, (state, action, reward, state_, done) in enumerate(SARS):\n",
    "                if done == True:\n",
    "                    Qtarget = reward\n",
    "                else:\n",
    "                    Qtarget = reward + self.gamma * np.max(future_qvalue[index])\n",
    "            \n",
    "                \n",
    "                qcurr = qvalue[index][0]\n",
    "                qcurr[action] = Qtarget                \n",
    "                X.append(state)\n",
    "                y.append(qcurr)\n",
    "                \n",
    "            X, y = np.array(X).reshape(1,self.batch_size,1,self.states), np.array(y).reshape(1,self.batch_size, 1, self.n_actions)\n",
    "                                        \n",
    "            loss = self.model.Qpolicy.fit(X, y, batch_size = self.batch_size, shuffle = False, verbose = 0)\n",
    "            self.history.append(loss.history['loss'][0])\n",
    "            \n",
    "                \n",
    "            if self.terminal_state:\n",
    "                self.target_counter+=1\n",
    "\n",
    "            # C -> target network update frequency\n",
    "            if self.target_counter > self.C: \n",
    "                self.model.Qtarget.set_weights(self.model.Qpolicy.get_weights())\n",
    "                self.target_counter = 0 \n",
    "            \n",
    "        \n",
    "    def training(self):\n",
    "        timestep_reward = 0\n",
    "        \n",
    "        for episode in tqdm(range(1, self.episodes+1), ascii = True, unit = 'episode'): \n",
    "            s = self.env.reset()\n",
    "            done = False\n",
    "            score = 0\n",
    "            while done != True:\n",
    "                a = self.choose_action(s)\n",
    "                \n",
    "                s_, r, done, _= self.env.step(a)\n",
    "                \n",
    "                # Update \n",
    "                self.terminal_state = done\n",
    "                self.update_D(s,a,r,s_,done)\n",
    "                \n",
    "                self.train()\n",
    "                \n",
    "                s = s_\n",
    "                score += r\n",
    "                \n",
    "            self.decrement_epsilon(episode)  \n",
    "\n",
    "            # UPDATE\n",
    "            self.reward_data.append(score)\n",
    "            self.epsilon_data.append(self.epsilon)\n",
    "            \n",
    "            if episode % self.timestep == 0: \n",
    "                self.graphs(episode)\n",
    "            \n",
    "         \n",
    "        \n",
    "        self.graphs(episode)\n",
    "        self.model.Qpolicy.save(r'RL/{}'.format())\n",
    "        \n",
    "    def test(self, model_name,test_episodes = 100):\n",
    "        model = tf.keras.models.load_model('{}'.format(model_name))\n",
    "        reward = []\n",
    "        self.epsilon = 0.05\n",
    "        for i in range(test_episodes):\n",
    "            ep_reward = 0\n",
    "            s = self.env.reset()\n",
    "            done = False\n",
    "\n",
    "            while done != True:\n",
    "                if np.random.random() > self.epsilon: \n",
    "                    \n",
    "                    s_, r, done, _ = self.env.step(a)\n",
    "                    \n",
    "                    s = s_\n",
    "                    ep_reward += r  \n",
    "                    \n",
    "            reward.append(ep_reward)\n",
    "        \n",
    "        plt.plot([i for i in range(len(reward))], reward)\n",
    "        plt.xlabel('Episodes')\n",
    "        plt.ylabel('Episode reward')\n",
    "        plt.savefig(r'RL/Test.png')"
   ]
  },
  {
   "cell_type": "code",
   "execution_count": 124,
   "metadata": {},
   "outputs": [
    {
     "name": "stderr",
     "output_type": "stream",
     "text": [
      "WARNING:absl:`lr` is deprecated in Keras optimizer, please use `learning_rate` or use the legacy optimizer, e.g.,tf.keras.optimizers.legacy.RMSprop.\n",
      "WARNING:absl:`lr` is deprecated in Keras optimizer, please use `learning_rate` or use the legacy optimizer, e.g.,tf.keras.optimizers.legacy.RMSprop.\n",
      "  0%|          | 0/1000 [00:00<?, ?episode/s]\n"
     ]
    },
    {
     "ename": "ValueError",
     "evalue": "in user code:\n\n    File \"C:\\Users\\guilh\\AppData\\Roaming\\Python\\Python311\\site-packages\\keras\\src\\engine\\training.py\", line 2440, in predict_function  *\n        return step_function(self, iterator)\n    File \"C:\\Users\\guilh\\AppData\\Roaming\\Python\\Python311\\site-packages\\keras\\src\\engine\\training.py\", line 2425, in step_function  **\n        outputs = model.distribute_strategy.run(run_step, args=(data,))\n    File \"C:\\Users\\guilh\\AppData\\Roaming\\Python\\Python311\\site-packages\\keras\\src\\engine\\training.py\", line 2413, in run_step  **\n        outputs = model.predict_step(data)\n    File \"C:\\Users\\guilh\\AppData\\Roaming\\Python\\Python311\\site-packages\\keras\\src\\engine\\training.py\", line 2381, in predict_step\n        return self(x, training=False)\n    File \"C:\\Users\\guilh\\AppData\\Roaming\\Python\\Python311\\site-packages\\keras\\src\\utils\\traceback_utils.py\", line 70, in error_handler\n        raise e.with_traceback(filtered_tb) from None\n    File \"C:\\Users\\guilh\\AppData\\Roaming\\Python\\Python311\\site-packages\\keras\\src\\engine\\input_spec.py\", line 298, in assert_input_compatibility\n        raise ValueError(\n\n    ValueError: Input 0 of layer \"sequential_2\" is incompatible with the layer: expected shape=(None, 2), found shape=(None, 64, 1, 2)\n",
     "output_type": "error",
     "traceback": [
      "\u001b[1;31m---------------------------------------------------------------------------\u001b[0m",
      "\u001b[1;31mValueError\u001b[0m                                Traceback (most recent call last)",
      "Cell \u001b[1;32mIn[124], line 2\u001b[0m\n\u001b[0;32m      1\u001b[0m dqn \u001b[38;5;241m=\u001b[39m DQNAgent(episodes \u001b[38;5;241m=\u001b[39m \u001b[38;5;241m1_000\u001b[39m)\n\u001b[1;32m----> 2\u001b[0m \u001b[43mdqn\u001b[49m\u001b[38;5;241;43m.\u001b[39;49m\u001b[43mtraining\u001b[49m\u001b[43m(\u001b[49m\u001b[43m)\u001b[49m\n",
      "Cell \u001b[1;32mIn[123], line 178\u001b[0m, in \u001b[0;36mDQNAgent.training\u001b[1;34m(self)\u001b[0m\n\u001b[0;32m    175\u001b[0m \u001b[38;5;28mself\u001b[39m\u001b[38;5;241m.\u001b[39mterminal_state \u001b[38;5;241m=\u001b[39m done\n\u001b[0;32m    176\u001b[0m \u001b[38;5;28mself\u001b[39m\u001b[38;5;241m.\u001b[39mupdate_D(s,a,r,s_,done)\n\u001b[1;32m--> 178\u001b[0m \u001b[38;5;28;43mself\u001b[39;49m\u001b[38;5;241;43m.\u001b[39;49m\u001b[43mtrain\u001b[49m\u001b[43m(\u001b[49m\u001b[43m)\u001b[49m\n\u001b[0;32m    180\u001b[0m s \u001b[38;5;241m=\u001b[39m s_\n\u001b[0;32m    181\u001b[0m score \u001b[38;5;241m+\u001b[39m\u001b[38;5;241m=\u001b[39m r\n",
      "Cell \u001b[1;32mIn[123], line 130\u001b[0m, in \u001b[0;36mDQNAgent.train\u001b[1;34m(self)\u001b[0m\n\u001b[0;32m    127\u001b[0m SARS \u001b[38;5;241m=\u001b[39m \u001b[38;5;28mself\u001b[39m\u001b[38;5;241m.\u001b[39mminibatch()\n\u001b[0;32m    129\u001b[0m s \u001b[38;5;241m=\u001b[39m \u001b[38;5;28mself\u001b[39m\u001b[38;5;241m.\u001b[39mstate_shape([row[\u001b[38;5;241m0\u001b[39m] \u001b[38;5;28;01mfor\u001b[39;00m row \u001b[38;5;129;01min\u001b[39;00m SARS])\n\u001b[1;32m--> 130\u001b[0m qvalue \u001b[38;5;241m=\u001b[39m \u001b[38;5;28;43mself\u001b[39;49m\u001b[38;5;241;43m.\u001b[39;49m\u001b[43mmodel\u001b[49m\u001b[38;5;241;43m.\u001b[39;49m\u001b[43mQpolicy\u001b[49m\u001b[38;5;241;43m.\u001b[39;49m\u001b[43mpredict\u001b[49m\u001b[43m(\u001b[49m\u001b[43ms\u001b[49m\u001b[43m)\u001b[49m[\u001b[38;5;241m0\u001b[39m]\n\u001b[0;32m    132\u001b[0m s_ \u001b[38;5;241m=\u001b[39m \u001b[38;5;28mself\u001b[39m\u001b[38;5;241m.\u001b[39mstate_shape([row[\u001b[38;5;241m3\u001b[39m] \u001b[38;5;28;01mfor\u001b[39;00m row \u001b[38;5;129;01min\u001b[39;00m SARS])\n\u001b[0;32m    133\u001b[0m future_qvalue \u001b[38;5;241m=\u001b[39m \u001b[38;5;28mself\u001b[39m\u001b[38;5;241m.\u001b[39mmodel\u001b[38;5;241m.\u001b[39mQtarget\u001b[38;5;241m.\u001b[39mpredict(s_)[\u001b[38;5;241m0\u001b[39m]\n",
      "File \u001b[1;32m~\\AppData\\Roaming\\Python\\Python311\\site-packages\\keras\\src\\utils\\traceback_utils.py:70\u001b[0m, in \u001b[0;36mfilter_traceback.<locals>.error_handler\u001b[1;34m(*args, **kwargs)\u001b[0m\n\u001b[0;32m     67\u001b[0m     filtered_tb \u001b[38;5;241m=\u001b[39m _process_traceback_frames(e\u001b[38;5;241m.\u001b[39m__traceback__)\n\u001b[0;32m     68\u001b[0m     \u001b[38;5;66;03m# To get the full stack trace, call:\u001b[39;00m\n\u001b[0;32m     69\u001b[0m     \u001b[38;5;66;03m# `tf.debugging.disable_traceback_filtering()`\u001b[39;00m\n\u001b[1;32m---> 70\u001b[0m     \u001b[38;5;28;01mraise\u001b[39;00m e\u001b[38;5;241m.\u001b[39mwith_traceback(filtered_tb) \u001b[38;5;28;01mfrom\u001b[39;00m \u001b[38;5;28;01mNone\u001b[39;00m\n\u001b[0;32m     71\u001b[0m \u001b[38;5;28;01mfinally\u001b[39;00m:\n\u001b[0;32m     72\u001b[0m     \u001b[38;5;28;01mdel\u001b[39;00m filtered_tb\n",
      "File \u001b[1;32m~\\AppData\\Local\\Temp\\__autograph_generated_fileojj5vi81.py:15\u001b[0m, in \u001b[0;36mouter_factory.<locals>.inner_factory.<locals>.tf__predict_function\u001b[1;34m(iterator)\u001b[0m\n\u001b[0;32m     13\u001b[0m \u001b[38;5;28;01mtry\u001b[39;00m:\n\u001b[0;32m     14\u001b[0m     do_return \u001b[38;5;241m=\u001b[39m \u001b[38;5;28;01mTrue\u001b[39;00m\n\u001b[1;32m---> 15\u001b[0m     retval_ \u001b[38;5;241m=\u001b[39m ag__\u001b[38;5;241m.\u001b[39mconverted_call(ag__\u001b[38;5;241m.\u001b[39mld(step_function), (ag__\u001b[38;5;241m.\u001b[39mld(\u001b[38;5;28mself\u001b[39m), ag__\u001b[38;5;241m.\u001b[39mld(iterator)), \u001b[38;5;28;01mNone\u001b[39;00m, fscope)\n\u001b[0;32m     16\u001b[0m \u001b[38;5;28;01mexcept\u001b[39;00m:\n\u001b[0;32m     17\u001b[0m     do_return \u001b[38;5;241m=\u001b[39m \u001b[38;5;28;01mFalse\u001b[39;00m\n",
      "\u001b[1;31mValueError\u001b[0m: in user code:\n\n    File \"C:\\Users\\guilh\\AppData\\Roaming\\Python\\Python311\\site-packages\\keras\\src\\engine\\training.py\", line 2440, in predict_function  *\n        return step_function(self, iterator)\n    File \"C:\\Users\\guilh\\AppData\\Roaming\\Python\\Python311\\site-packages\\keras\\src\\engine\\training.py\", line 2425, in step_function  **\n        outputs = model.distribute_strategy.run(run_step, args=(data,))\n    File \"C:\\Users\\guilh\\AppData\\Roaming\\Python\\Python311\\site-packages\\keras\\src\\engine\\training.py\", line 2413, in run_step  **\n        outputs = model.predict_step(data)\n    File \"C:\\Users\\guilh\\AppData\\Roaming\\Python\\Python311\\site-packages\\keras\\src\\engine\\training.py\", line 2381, in predict_step\n        return self(x, training=False)\n    File \"C:\\Users\\guilh\\AppData\\Roaming\\Python\\Python311\\site-packages\\keras\\src\\utils\\traceback_utils.py\", line 70, in error_handler\n        raise e.with_traceback(filtered_tb) from None\n    File \"C:\\Users\\guilh\\AppData\\Roaming\\Python\\Python311\\site-packages\\keras\\src\\engine\\input_spec.py\", line 298, in assert_input_compatibility\n        raise ValueError(\n\n    ValueError: Input 0 of layer \"sequential_2\" is incompatible with the layer: expected shape=(None, 2), found shape=(None, 64, 1, 2)\n"
     ]
    }
   ],
   "source": [
    "dqn = DQNAgent(episodes = 1_000)\n",
    "dqn.training()"
   ]
  },
  {
   "cell_type": "code",
   "execution_count": null,
   "metadata": {},
   "outputs": [],
   "source": []
  }
 ],
 "metadata": {
  "kernelspec": {
   "display_name": "base",
   "language": "python",
   "name": "python3"
  },
  "language_info": {
   "codemirror_mode": {
    "name": "ipython",
    "version": 3
   },
   "file_extension": ".py",
   "mimetype": "text/x-python",
   "name": "python",
   "nbconvert_exporter": "python",
   "pygments_lexer": "ipython3",
   "version": "3.11.4"
  }
 },
 "nbformat": 4,
 "nbformat_minor": 2
}
